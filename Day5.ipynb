{
 "cells": [
  {
   "cell_type": "markdown",
   "metadata": {},
   "source": [
    "# 文件处理"
   ]
  },
  {
   "cell_type": "code",
   "execution_count": 33,
   "metadata": {},
   "outputs": [
    {
     "name": "stdout",
     "output_type": "stream",
     "text": [
      "一、选择题\n",
      "1.在Java程序中，如果对发生的事件做出响应和处理的时候，应该\n",
      "使用的语句是（C）\n",
      "  A）import java.awt.*;\n",
      "  B）import java.applet.*;\n",
      "  C）import java.awt.event.*;\n",
      "  D）import java.io.*;\n",
      "2.在Java中，要处理Button类对象的事件，以下各项中，哪个是可以处理这个事件的接口(D)\n",
      "  A）FocusListener\n",
      "  \n",
      "B）ComponentListener\n",
      "  C）WindowListener\n",
      "  D）ActionListener\n",
      "3.每一个GUI程序中必须包含一个什么组件（D）\n",
      "  A）按钮 B）标签 C）菜单 D）容器\n",
      "\n",
      "4、ActionEvent的对象会被传递给以下哪个事件处理器方法（B）\n",
      "  A）addChangeListener() \n",
      "  B）addActionListener()\n",
      "  C）stateChanged()\n",
      "  D）actionPerformed()\n",
      "\n",
      "\n",
      "二、编程题\n",
      "\n",
      "1.创建一个窗口,然后在窗口中放置两个按钮和一个文本框，一个按钮上显示“按钮1”，\n",
      "另外一个按钮上显示“按钮2”，当用鼠标单击“按钮1”后，文本框里显示“按钮1被点击了”，\n",
      "当用鼠标单击“按钮2”后，文本框里显示“按钮2被点击了”。\n",
      "\n",
      "2.创建一个窗口，包括一个文本框、一个标签和一个按钮，当用户单击按钮时，\n",
      "程序把文本框中的内容复制到标签中。\n",
      "\n",
      "\n"
     ]
    }
   ],
   "source": [
    "def main():\n",
    "    try:\n",
    "        #使用with打开文件，在退出with结构时文件会自动关闭\n",
    "        with open('test.txt', 'r', encoding = 'utf-8') as f:\n",
    "            print(f.read())\n",
    "    except FileNotFoundError:\n",
    "        print(\"无法打开指定文件！\")\n",
    "    except LookupError:\n",
    "        print(\"指定了未知的编码！\")\n",
    "    except UnicodeDecodeError:\n",
    "        print(\"读取文件时解码错误！\")\n",
    "if __name__ == '__main__':\n",
    "    main()"
   ]
  },
  {
   "cell_type": "code",
   "execution_count": 13,
   "metadata": {},
   "outputs": [
    {
     "name": "stdout",
     "output_type": "stream",
     "text": [
      "一、选择题\n",
      "1.在Java程序中，如果对发生的事件做出响应和处理的时候，应该\n",
      "使用的语句是（C）\n",
      "  A）import java.awt.*;\n",
      "  B）import java.applet.*;\n",
      "  C）import java.awt.event.*;\n",
      "  D）import java.io.*;\n",
      "2.在Java中，要处理Button类对象的事件，以下各项中，哪个是可以处理这个事件的接口(D)\n",
      "  A）FocusListener\n",
      "  \n",
      "B）ComponentListener\n",
      "  C）WindowListener\n",
      "  D）ActionListener\n",
      "3.每一个GUI程序中必须包含一个什么组件（D）\n",
      "  A）按钮 B）标签 C）菜单 D）容器\n",
      "\n",
      "4、ActionEvent的对象会被传递给以下哪个事件处理器方法（B）\n",
      "  A）addChangeListener() \n",
      "  B）addActionListener()\n",
      "  C）stateChanged()\n",
      "  D）actionPerformed()\n",
      "\n",
      "\n",
      "二、编程题\n",
      "\n",
      "1.创建一个窗口,然后在窗口中放置两个按钮和一个文本框，一个按钮上显示“按钮1”，\n",
      "另外一个按钮上显示“按钮2”，当用鼠标单击“按钮1”后，文本框里显示“按钮1被点击了”，\n",
      "当用鼠标单击“按钮2”后，文本框里显示“按钮2被点击了”。\n",
      "\n",
      "2.创建一个窗口，包括一个文本框、一个标签和一个按钮，当用户单击按钮时，\n",
      "程序把文本框中的内容复制到标签中。\n",
      "\n",
      "\n"
     ]
    }
   ],
   "source": [
    "def main():\n",
    "    f = None\n",
    "    #熟悉try...except结构的用法\n",
    "    try:\n",
    "        f = open('test.txt', 'r', encoding='utf-8')\n",
    "        print(f.read())\n",
    "    except FileNotFoundError:\n",
    "        print('无法打开指定的文件!')\n",
    "    except LookupError:\n",
    "        print('指定了未知的编码!')\n",
    "    except UnicodeDecodeError:\n",
    "        print('读取文件时解码错误!')\n",
    "        \n",
    "    #finally无论怎么样最后都会执行， 放在后面关闭文件用以释放内存\n",
    "    finally:\n",
    "        if f:\n",
    "            f.close()\n",
    "\n",
    "\n",
    "if __name__ == '__main__':\n",
    "    main()\n"
   ]
  },
  {
   "cell_type": "code",
   "execution_count": 39,
   "metadata": {},
   "outputs": [
    {
     "name": "stdout",
     "output_type": "stream",
     "text": [
      "<class '_io.TextIOWrapper'>\n",
      "<_io.TextIOWrapper name='test.txt' mode='r' encoding='utf-8'>\n",
      "一、选择题\n",
      "1.在Java程序中，如果对发生的事件做出响应和处理的时候，应该\n",
      "使用的语句是（C）\n",
      "  A）import java.awt.*;\n",
      "  B）import java.applet.*;\n",
      "  C）import java.awt.event.*;\n",
      "  D）import java.io.*;\n",
      "2.在Java中，要处理Button类对象的事件，以下各项中，哪个是可以处理这个事件的接口(D)\n",
      "  A）FocusListener\n",
      "  B）ComponentListener\n",
      "  C）WindowListener\n",
      "  D）ActionListener\n",
      "3.每一个GUI程序中必须包含一个什么组件（D）\n",
      "  A）按钮 B）标签 C）菜单 D）容器\n",
      "\n",
      "4、ActionEvent的对象会被传递给以下哪个事件处理器方法（B）\n",
      "  A）addChangeListener() \n",
      "  B）addActionListener()\n",
      "  C）stateChanged()\n",
      "  D）actionPerformed()\n",
      "\n",
      "\n",
      "二、编程题\n",
      "\n",
      "1.创建一个窗口,然后在窗口中放置两个按钮和一个文本框，一个按钮上显示“按钮1”，\n",
      "另外一个按钮上显示“按钮2”，当用鼠标单击“按钮1”后，文本框里显示“按钮1被点击了”，\n",
      "当用鼠标单击“按钮2”后，文本框里显示“按钮2被点击了”。\n",
      "\n",
      "2.创建一个窗口，包括一个文本框、一个标签和一个按钮，当用户单击按钮时，\n",
      "程序把文本框中的内容复制到标签中。\n",
      "\n"
     ]
    }
   ],
   "source": [
    "#通过for-in循环读取txt文件\n",
    "def main():\n",
    "    with open('test.txt', 'r', encoding = 'utf-8') as f:\n",
    "        print(type(f))\n",
    "        print(f)\n",
    "        for line in f:\n",
    "            print(line, end = '')\n",
    "            \n",
    "            \n",
    "if __name__ == '__main__':\n",
    "    main()"
   ]
  },
  {
   "cell_type": "code",
   "execution_count": 71,
   "metadata": {},
   "outputs": [
    {
     "name": "stdout",
     "output_type": "stream",
     "text": [
      "['一、选择题\\n', '1.在Java程序中，如果对发生的事件做出响应和处理的时候，应该\\n', '使用的语句是（C）\\n', '  A）import java.awt.*;\\n', '  B）import java.applet.*;\\n', '  C）import java.awt.event.*;\\n', '  D）import java.io.*;\\n', '2.在Java中，要处理Button类对象的事件，以下各项中，哪个是可以处理这个事件的接口(D)\\n', '  A）FocusListener\\n', '  B）ComponentListener\\n', '  C）WindowListener\\n', '  D）ActionListener\\n', '3.每一个GUI程序中必须包含一个什么组件（D）\\n', '  A）按钮 B）标签 C）菜单 D）容器\\n', '\\n', '4、ActionEvent的对象会被传递给以下哪个事件处理器方法（B）\\n', '  A）addChangeListener() \\n', '  B）addActionListener()\\n', '  C）stateChanged()\\n', '  D）actionPerformed()\\n', '\\n', '\\n', '二、编程题\\n', '\\n', '1.创建一个窗口,然后在窗口中放置两个按钮和一个文本框，一个按钮上显示“按钮1”，\\n', '另外一个按钮上显示“按钮2”，当用鼠标单击“按钮1”后，文本框里显示“按钮1被点击了”，\\n', '当用鼠标单击“按钮2”后，文本框里显示“按钮2被点击了”。\\n', '\\n', '2.创建一个窗口，包括一个文本框、一个标签和一个按钮，当用户单击按钮时，\\n', '程序把文本框中的内容复制到标签中。\\n', '\\n']\n"
     ]
    }
   ],
   "source": [
    "# 按行直接读取到列表中\n",
    "def main():\n",
    "    with open('test.txt', 'r', encoding = 'utf-8') as f:\n",
    "        lines = f.readlines()\n",
    "        print(lines)\n",
    "        \n",
    "if __name__ == \"__main__\":\n",
    "    main()"
   ]
  },
  {
   "cell_type": "code",
   "execution_count": 93,
   "metadata": {},
   "outputs": [],
   "source": [
    "# 将1-9999之间的素数分别写入三个文件中\n",
    "#（1-99之间的素数保存在a.txt中，100-999之间的素数保存在b.txt中，1000-9999之间的素数保存在c.txt中）\n",
    "\n",
    "from math import sqrt\n",
    "\n",
    "# 判断一个数是否是素数\n",
    "def is_Prime(num):\n",
    "    #若输入非正数，则直接出现assertion Error，直接易于判断\n",
    "    assert num > 0\n",
    "    for i in range(2, int(sqrt(num) + 1)):\n",
    "        if num % i == 0:\n",
    "            return False\n",
    "    return True if num != 1 else False\n",
    "        \n",
    "def main():\n",
    "    filenames = ['a.txt', 'b.txt', 'c.txt']\n",
    "    fs_list = []\n",
    "    try: \n",
    "        for filename in filenames:\n",
    "            fs_list.append(open(filename, 'w', encoding = 'utf-8'))\n",
    "        for number in range(1, 10000):\n",
    "            if is_Prime(number):\n",
    "                if number < 100:\n",
    "                    #写入文件的操作\n",
    "                    #重复运行会使文件重新覆盖，若想直接往后延续，换成'a'模式就ok\n",
    "                    fs_list[0].write(str(number) + '\\n')\n",
    "                elif number < 1000:\n",
    "                    fs_list[1].write(str(number) + '\\n')\n",
    "                else:\n",
    "                    fs_list[2].write(str(number) + '\\n')\n",
    "    except IOError as ex:\n",
    "        print(ex)\n",
    "        print(\"ERROR!\")\n",
    "    finally:\n",
    "        for fs in fs_list:\n",
    "            fs.close()\n",
    "\n",
    "if __name__ == '__main__':\n",
    "    main()"
   ]
  },
  {
   "cell_type": "code",
   "execution_count": 95,
   "metadata": {
    "scrolled": true
   },
   "outputs": [
    {
     "name": "stdout",
     "output_type": "stream",
     "text": [
      "<class 'bytes'>\n",
      "程序执行结束\n"
     ]
    }
   ],
   "source": [
    "# 读写二进制文件\n",
    "# 图片属于二进制文件\n",
    "\n",
    "def main():\n",
    "    try:\n",
    "        #'rb'表示 read binary 表示读取二进制文件\n",
    "        with open('spurs.jpg', 'rb') as fs1:\n",
    "            data = fs1.read()\n",
    "            print(type(data))\n",
    "        #'wb'表示 write binary 表示写入二进制文件\n",
    "        with open('hello.jpg', 'wb') as fs2:\n",
    "            fs2.write(data)\n",
    "    except FileNotFoundError as e:\n",
    "        print(\"指定文件无法打开\")\n",
    "    except IOError as e:\n",
    "        print(\"读写文件时出现错误\")\n",
    "    print(\"程序执行结束\")\n",
    "    \n",
    "if __name__ == '__main__':\n",
    "    main()"
   ]
  },
  {
   "cell_type": "code",
   "execution_count": 100,
   "metadata": {},
   "outputs": [
    {
     "name": "stdout",
     "output_type": "stream",
     "text": [
      "\\()\n"
     ]
    }
   ],
   "source": []
  }
 ],
 "metadata": {
  "kernelspec": {
   "display_name": "Python 3",
   "language": "python",
   "name": "python3"
  },
  "language_info": {
   "codemirror_mode": {
    "name": "ipython",
    "version": 3
   },
   "file_extension": ".py",
   "mimetype": "text/x-python",
   "name": "python",
   "nbconvert_exporter": "python",
   "pygments_lexer": "ipython3",
   "version": "3.7.3"
  }
 },
 "nbformat": 4,
 "nbformat_minor": 2
}
