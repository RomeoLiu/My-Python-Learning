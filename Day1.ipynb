{
 "cells": [
  {
   "cell_type": "markdown",
   "metadata": {},
   "source": [
    "# Day1"
   ]
  },
  {
   "cell_type": "code",
   "execution_count": 2,
   "metadata": {},
   "outputs": [
    {
     "name": "stdout",
     "output_type": "stream",
     "text": [
      "2333\n",
      "12.56636\n"
     ]
    }
   ],
   "source": [
    "# 用变量保存数据并进行运算\n",
    "\n",
    "a = 12\n",
    "b = 2321\n",
    "print(a + b)\n",
    "\n",
    "c = 3.14159\n",
    "print(4 * c)"
   ]
  },
  {
   "cell_type": "code",
   "execution_count": 7,
   "metadata": {},
   "outputs": [
    {
     "name": "stdout",
     "output_type": "stream",
     "text": [
      "a = 12\n",
      "b = 13\n",
      "c = 2.1\n",
      "13\n",
      "2.1\n"
     ]
    },
    {
     "data": {
      "text/plain": [
       "int"
      ]
     },
     "execution_count": 7,
     "metadata": {},
     "output_type": "execute_result"
    }
   ],
   "source": [
    "# 使用input()输入\n",
    "a = input('a = ')\n",
    "type(a)\n",
    "\n",
    "b = int(input('b = ')) #如果输入的是非整数（比如float或者str则会报错）\n",
    "c = float(input('c = '))\n",
    "print(b)\n",
    "print(c)\n",
    "\n",
    "type(b)\n",
    "type(c)"
   ]
  },
  {
   "cell_type": "code",
   "execution_count": 11,
   "metadata": {},
   "outputs": [
    {
     "name": "stdout",
     "output_type": "stream",
     "text": [
      "<class 'int'>\n",
      "<class 'float'>\n",
      "<class 'complex'>\n",
      "<class 'bool'>\n"
     ]
    }
   ],
   "source": [
    "a = 213\n",
    "b = 1231.213\n",
    "c = 4 + 5j\n",
    "d = True\n",
    "\n",
    "print(type(a))\n",
    "print(type(b))\n",
    "print(type(c))\n",
    "print(type(d))\n"
   ]
  },
  {
   "cell_type": "code",
   "execution_count": 19,
   "metadata": {},
   "outputs": [
    {
     "name": "stdout",
     "output_type": "stream",
     "text": [
      "6\n",
      "115\n"
     ]
    }
   ],
   "source": [
    "print(chr(54))\n",
    "print(ord('s'))"
   ]
  },
  {
   "cell_type": "code",
   "execution_count": 26,
   "metadata": {},
   "outputs": [
    {
     "name": "stdout",
     "output_type": "stream",
     "text": [
      "Please enter your name:Romeo\n",
      "Please enter your password:liuxinyu990831\n",
      "Correct!\n"
     ]
    }
   ],
   "source": [
    "# 做做练习\n",
    "#1.安全验证\n",
    "name = input(\"Please enter your name:\")\n",
    "password = input(\"Please enter your password:\")\n",
    "\n",
    "if name == 'Romeo' and password == 'liuxinyu990831':\n",
    "    print(\"Correct!\")\n",
    "else:\n",
    "    print(\"Wrong!\")"
   ]
  },
  {
   "cell_type": "code",
   "execution_count": 30,
   "metadata": {},
   "outputs": [
    {
     "name": "stdout",
     "output_type": "stream",
     "text": [
      "a = 21\n",
      "b = 23141\n",
      "c = 21314\n",
      "Not a triangle!\n"
     ]
    }
   ],
   "source": [
    "#2.输入3条边计算三角形的面积\n",
    "import math\n",
    "\n",
    "a = float(input('a = '))\n",
    "b = float(input('b = '))\n",
    "c = float(input('c = '))\n",
    "\n",
    "if a + b > c and b + c > a and a + c > b:\n",
    "    p = (a + b + c) / 2\n",
    "    area = math.sqrt(p * (p - a) * (p - b) * (p - c))\n",
    "    print('Area = %f' % (area))\n",
    "else:\n",
    "    print(\"Not a triangle!\")"
   ]
  },
  {
   "cell_type": "code",
   "execution_count": 43,
   "metadata": {},
   "outputs": [
    {
     "name": "stdout",
     "output_type": "stream",
     "text": [
      "Enter the number: 13\n",
      "13 is a prime number.\n"
     ]
    }
   ],
   "source": [
    "#判断一个数是不是素数\n",
    "import math\n",
    "num = int(input(\"Enter the number: \"))\n",
    "isPrime = True\n",
    "end = int(math.sqrt(num))\n",
    "\n",
    "for i in range(2, end + 1):\n",
    "    if num % i == 0:\n",
    "        isPrime = False\n",
    "        break\n",
    "if isPrime:\n",
    "    print(\"%d is a prime number.\" % (num))\n",
    "else:\n",
    "    print(\"%d is not a prime number.\" % (num))"
   ]
  },
  {
   "cell_type": "code",
   "execution_count": 48,
   "metadata": {},
   "outputs": [
    {
     "name": "stdout",
     "output_type": "stream",
     "text": [
      "a = 1414\n",
      "b = 2141\n",
      "最大公约数是：1\n",
      "最小公倍数是：3027374\n"
     ]
    }
   ],
   "source": [
    "#输入两个正整数，求这两个整数的最小公倍数和最大公约数\n",
    "#更相减损术\n",
    "a = int(input('a = '))\n",
    "b = int(input('b = '))\n",
    "\n",
    "def gcd(a, b):\n",
    "    if a == b:\n",
    "        return a\n",
    "    elif a > b:\n",
    "        return gcd(a - b, b)\n",
    "    else:\n",
    "        return gcd(b - a, a)\n",
    "    \n",
    "print(\"最大公约数是：%d\" % (gcd(a, b)))\n",
    "print(\"最小公倍数是：%d\" % (a * b / gcd(a, b)))"
   ]
  },
  {
   "cell_type": "code",
   "execution_count": 56,
   "metadata": {},
   "outputs": [
    {
     "name": "stdout",
     "output_type": "stream",
     "text": [
      "    *\n",
      "   ***\n",
      "  *****\n",
      " *******\n",
      "*********\n"
     ]
    }
   ],
   "source": [
    "# 打印图案\n",
    "row = 5\n",
    "for i in range(row):\n",
    "    for j in range(row - 1 - i):\n",
    "        print(' ', end = '')\n",
    "    for _ in range(2 * i + 1):\n",
    "        print('*', end = '')\n",
    "    print()"
   ]
  },
  {
   "cell_type": "code",
   "execution_count": 72,
   "metadata": {},
   "outputs": [
    {
     "name": "stdout",
     "output_type": "stream",
     "text": [
      "1\n",
      "2\n",
      "3\n",
      "4\n",
      "5\n",
      "6\n",
      "7\n",
      "8\n",
      "9\n",
      "153\n",
      "370\n",
      "371\n",
      "407\n",
      "1634\n",
      "8208\n",
      "9474\n",
      "54748\n",
      "92727\n",
      "93084\n",
      "548834\n",
      "1741725\n",
      "4210818\n",
      "9800817\n",
      "9926315\n",
      "24678050\n",
      "24678051\n",
      "88593477\n"
     ]
    },
    {
     "ename": "KeyboardInterrupt",
     "evalue": "",
     "output_type": "error",
     "traceback": [
      "\u001b[0;31m---------------------------------------------------------------------------\u001b[0m",
      "\u001b[0;31mKeyboardInterrupt\u001b[0m                         Traceback (most recent call last)",
      "\u001b[0;32m<ipython-input-72-390f17d349e9>\u001b[0m in \u001b[0;36m<module>\u001b[0;34m\u001b[0m\n\u001b[1;32m      8\u001b[0m         \u001b[0madd\u001b[0m \u001b[0;34m=\u001b[0m \u001b[0;36m0\u001b[0m\u001b[0;34m\u001b[0m\u001b[0;34m\u001b[0m\u001b[0m\n\u001b[1;32m      9\u001b[0m         \u001b[0;32mfor\u001b[0m \u001b[0m_\u001b[0m \u001b[0;32min\u001b[0m \u001b[0mrange\u001b[0m\u001b[0;34m(\u001b[0m\u001b[0mi\u001b[0m\u001b[0;34m)\u001b[0m\u001b[0;34m:\u001b[0m\u001b[0;34m\u001b[0m\u001b[0;34m\u001b[0m\u001b[0m\n\u001b[0;32m---> 10\u001b[0;31m             \u001b[0madd\u001b[0m \u001b[0;34m+=\u001b[0m \u001b[0;34m(\u001b[0m\u001b[0mnum\u001b[0m \u001b[0;34m//\u001b[0m \u001b[0;34m(\u001b[0m\u001b[0;36m10\u001b[0m \u001b[0;34m**\u001b[0m \u001b[0m_\u001b[0m\u001b[0;34m)\u001b[0m \u001b[0;34m%\u001b[0m \u001b[0;36m10\u001b[0m\u001b[0;34m)\u001b[0m \u001b[0;34m**\u001b[0m \u001b[0mi\u001b[0m\u001b[0;34m\u001b[0m\u001b[0;34m\u001b[0m\u001b[0m\n\u001b[0m\u001b[1;32m     11\u001b[0m         \u001b[0;32mif\u001b[0m \u001b[0mnum\u001b[0m \u001b[0;34m==\u001b[0m \u001b[0madd\u001b[0m\u001b[0;34m:\u001b[0m\u001b[0;34m\u001b[0m\u001b[0;34m\u001b[0m\u001b[0m\n\u001b[1;32m     12\u001b[0m             \u001b[0mprint\u001b[0m\u001b[0;34m(\u001b[0m\u001b[0mnum\u001b[0m\u001b[0;34m)\u001b[0m\u001b[0;34m\u001b[0m\u001b[0;34m\u001b[0m\u001b[0m\n",
      "\u001b[0;31mKeyboardInterrupt\u001b[0m: "
     ]
    }
   ],
   "source": [
    "#寻找水仙花数\n",
    "\n",
    "#设置寻找的最长位数\n",
    "length = 9\n",
    "\n",
    "for i in range(1, length + 1):\n",
    "    for num in range(10 ** (i - 1), 10 ** i):\n",
    "        add = 0\n",
    "        for _ in range(i):\n",
    "            add += (num // (10 ** _) % 10) ** i\n",
    "        if num == add:\n",
    "            print(num)\n",
    "                    \n",
    "            \n",
    "    \n",
    "                    "
   ]
  },
  {
   "cell_type": "code",
   "execution_count": 76,
   "metadata": {},
   "outputs": [
    {
     "name": "stdout",
     "output_type": "stream",
     "text": [
      "6\n",
      "28\n",
      "496\n",
      "8128\n"
     ]
    },
    {
     "ename": "KeyboardInterrupt",
     "evalue": "",
     "output_type": "error",
     "traceback": [
      "\u001b[0;31m---------------------------------------------------------------------------\u001b[0m",
      "\u001b[0;31mKeyboardInterrupt\u001b[0m                         Traceback (most recent call last)",
      "\u001b[0;32m<ipython-input-76-56527a65d017>\u001b[0m in \u001b[0;36m<module>\u001b[0;34m\u001b[0m\n\u001b[1;32m      7\u001b[0m \u001b[0;32mfor\u001b[0m \u001b[0mnum\u001b[0m \u001b[0;32min\u001b[0m \u001b[0mrange\u001b[0m\u001b[0;34m(\u001b[0m\u001b[0;36m1\u001b[0m\u001b[0;34m,\u001b[0m \u001b[0;36m10\u001b[0m \u001b[0;34m**\u001b[0m \u001b[0mlength\u001b[0m\u001b[0;34m)\u001b[0m\u001b[0;34m:\u001b[0m\u001b[0;34m\u001b[0m\u001b[0;34m\u001b[0m\u001b[0m\n\u001b[1;32m      8\u001b[0m     \u001b[0msum\u001b[0m \u001b[0;34m=\u001b[0m \u001b[0;36m0\u001b[0m\u001b[0;34m\u001b[0m\u001b[0;34m\u001b[0m\u001b[0m\n\u001b[0;32m----> 9\u001b[0;31m     \u001b[0;32mfor\u001b[0m \u001b[0mi\u001b[0m \u001b[0;32min\u001b[0m \u001b[0mrange\u001b[0m\u001b[0;34m(\u001b[0m\u001b[0;36m1\u001b[0m\u001b[0;34m,\u001b[0m \u001b[0mnum\u001b[0m\u001b[0;34m)\u001b[0m\u001b[0;34m:\u001b[0m\u001b[0;34m\u001b[0m\u001b[0;34m\u001b[0m\u001b[0m\n\u001b[0m\u001b[1;32m     10\u001b[0m         \u001b[0;32mif\u001b[0m \u001b[0mnum\u001b[0m \u001b[0;34m%\u001b[0m \u001b[0mi\u001b[0m \u001b[0;34m==\u001b[0m \u001b[0;36m0\u001b[0m\u001b[0;34m:\u001b[0m\u001b[0;34m\u001b[0m\u001b[0;34m\u001b[0m\u001b[0m\n\u001b[1;32m     11\u001b[0m             \u001b[0msum\u001b[0m \u001b[0;34m+=\u001b[0m \u001b[0mi\u001b[0m\u001b[0;34m\u001b[0m\u001b[0;34m\u001b[0m\u001b[0m\n",
      "\u001b[0;31mKeyboardInterrupt\u001b[0m: "
     ]
    }
   ],
   "source": [
    "import math\n",
    "#寻找完美数\n",
    "\n",
    "#设置寻找的范围\n",
    "length = 8\n",
    "\n",
    "for num in range(1, 10 ** length):\n",
    "    sum = 0\n",
    "    for i in range(1, num):\n",
    "        if num % i == 0:\n",
    "            sum += i\n",
    "    if sum == num:\n",
    "        print(num)\n",
    "            "
   ]
  },
  {
   "cell_type": "code",
   "execution_count": 80,
   "metadata": {},
   "outputs": [
    {
     "name": "stdout",
     "output_type": "stream",
     "text": [
      "Buy 0 roosters, 25 hens and 75 chickens\n",
      "Buy 4 roosters, 18 hens and 78 chickens\n",
      "Buy 8 roosters, 11 hens and 81 chickens\n",
      "Buy 12 roosters, 4 hens and 84 chickens\n"
     ]
    }
   ],
   "source": [
    "#百钱百鸡问题\n",
    "\n",
    "money = 100\n",
    "num = 100\n",
    "for rooster in range(num + 1):\n",
    "    if 5 * rooster <= money:\n",
    "        for hen in range(num - rooster + 1):\n",
    "            if 3 * hen + 5 * rooster <= money:\n",
    "                if hen + rooster + 3 * (money - 5 * rooster - 3 * hen) == 100:\n",
    "                    print(\"Buy %d roosters, %d hens and %d chickens\" % (rooster, hen, num - hen - rooster))"
   ]
  },
  {
   "cell_type": "code",
   "execution_count": 91,
   "metadata": {},
   "outputs": [
    {
     "name": "stdout",
     "output_type": "stream",
     "text": [
      "1 1 2 3 5 8 13 21 34 55 89 144 233 377 610 987 1597 2584 4181 6765 10946 17711 28657 46368 75025 121393 196418 317811 514229 832040 1346269 2178309 3524578 5702887 9227465 14930352 24157817 39088169 63245986 102334155 165580141 267914296 433494437 701408733 1134903170 1836311903 2971215073 4807526976 7778742049 12586269025 "
     ]
    }
   ],
   "source": [
    "#生成斐波那契数列\n",
    "\n",
    "#设置生成数列的长度\n",
    "length = 50\n",
    "a = 1\n",
    "b = 0\n",
    "for i in range(length):\n",
    "    print(a, end = '')\n",
    "    print(' ', end = '')\n",
    "    a, b = a + b, a"
   ]
  },
  {
   "cell_type": "code",
   "execution_count": 93,
   "metadata": {},
   "outputs": [
    {
     "name": "stdout",
     "output_type": "stream",
     "text": [
      "720\n"
     ]
    }
   ],
   "source": [
    "#求阶乘\n",
    "def factorial(num):\n",
    "    \"\"\"\n",
    "    求阶乘\n",
    "    \n",
    "    :param num: 非负整数\n",
    "    :return: num的阶乘\n",
    "    \"\"\"\n",
    "    result = 1\n",
    "    for i in range(1, num + 1):\n",
    "        result *= i\n",
    "        \n",
    "    return result\n",
    "\n",
    "print(factorial(6))"
   ]
  }
 ],
 "metadata": {
  "kernelspec": {
   "display_name": "Python 3",
   "language": "python",
   "name": "python3"
  },
  "language_info": {
   "codemirror_mode": {
    "name": "ipython",
    "version": 3
   },
   "file_extension": ".py",
   "mimetype": "text/x-python",
   "name": "python",
   "nbconvert_exporter": "python",
   "pygments_lexer": "ipython3",
   "version": "3.7.3"
  }
 },
 "nbformat": 4,
 "nbformat_minor": 2
}
