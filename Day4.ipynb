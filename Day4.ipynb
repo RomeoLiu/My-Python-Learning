{
 "cells": [
  {
   "cell_type": "markdown",
   "metadata": {},
   "source": [
    "# GUI & Pygame"
   ]
  },
  {
   "cell_type": "code",
   "execution_count": 20,
   "metadata": {},
   "outputs": [],
   "source": [
    "import tkinter\n",
    "import tkinter.messagebox\n",
    "\n",
    "def main():\n",
    "    flag = True\n",
    "    \n",
    "    def change_label_text():\n",
    "        \"\"\"\n",
    "        修改标签上的文字\n",
    "        \"\"\"\n",
    "        nonlocal flag #表示这里的flag不是这个函数的局部变量，而是之前定义main的局部变量\n",
    "        flag = not flag\n",
    "        if flag:\n",
    "            msg, color = ('Hello, World!', 'Red')\n",
    "        else: \n",
    "            msg, color = ('Goodbye, World!', 'Blue')\n",
    "        label.config(text = msg, fg = color)\n",
    "            \n",
    "    #确认退出\n",
    "    def confirm_to_quit():\n",
    "        if tkinter.messagebox.askokcancel(\"温馨提示\", \"确认要退出吗?\"):\n",
    "            top.quit()\n",
    "            \n",
    "    #创建顶层窗口\n",
    "    top = tkinter.Tk()\n",
    "    \n",
    "    #设置窗口大小\n",
    "    top.geometry('240x320')\n",
    "    \n",
    "    #设置窗口标题\n",
    "    top.title('Kissgoodbye')\n",
    "    \n",
    "    # 创建标签对象并添加到顶层窗口\n",
    "    label = tkinter.Label(top, text='Hello, world!', font='Arial -32', fg='red')\n",
    "    label.pack(expand=1)\n",
    "    \n",
    "    # 创建一个装按钮的容器\n",
    "    panel = tkinter.Frame(top)\n",
    "    \n",
    "    # 创建按钮对象 指定添加到哪个容器中 通过command参数绑定事件回调函数\n",
    "    button1 = tkinter.Button(panel, text='修改', command=change_label_text)\n",
    "    button1.pack(side='left')\n",
    "    button2 = tkinter.Button(panel, text='退出', command=confirm_to_quit)\n",
    "    button2.pack(side='right')\n",
    "    panel.pack(side='bottom')\n",
    "    \n",
    "    # 开启主事件循环\n",
    "    tkinter.mainloop()\n",
    "    \n",
    "if __name__ == '__main__':\n",
    "    main()"
   ]
  },
  {
   "cell_type": "code",
   "execution_count": 22,
   "metadata": {},
   "outputs": [
    {
     "name": "stdout",
     "output_type": "stream",
     "text": [
      "pygame 1.9.6\n",
      "Hello from the pygame community. https://www.pygame.org/contribute.html\n"
     ]
    }
   ],
   "source": [
    "import pygame\n",
    "\n",
    "def main():\n",
    "    # 初始化导入的pygame中的模块\n",
    "    pygame.init()\n",
    "    # 初始化用于显示的窗口并设置窗口尺寸\n",
    "    screen = pygame.display.set_mode((800, 600))\n",
    "    # 设置当前窗口的标题\n",
    "    pygame.display.set_caption('大球吃小球')\n",
    "    # 设置窗口的背景色(颜色是由红绿蓝三原色构成的元组)\n",
    "    screen.fill((242, 242, 242))\n",
    "    # 绘制一个圆(参数分别是: 屏幕, 颜色, 圆心位置, 半径, 0表示填充圆)\n",
    "    pygame.draw.circle(screen, (255, 0, 0,), (100, 100), 30, 0)\n",
    "    # 刷新当前窗口(渲染窗口将绘制的图像呈现出来)\n",
    "    pygame.display.flip()\n",
    "    running = True\n",
    "    # 开启一个事件循环处理发生的事件\n",
    "    while running:\n",
    "        # 从消息队列中获取事件并对事件进行处理\n",
    "        for event in pygame.event.get():\n",
    "            if event.type == pygame.QUIT:\n",
    "                running = False\n",
    "\n",
    "\n",
    "if __name__ == '__main__':\n",
    "    main()"
   ]
  },
  {
   "cell_type": "code",
   "execution_count": 4,
   "metadata": {},
   "outputs": [
    {
     "name": "stdout",
     "output_type": "stream",
     "text": [
      "10737418.219999999\n"
     ]
    }
   ],
   "source": []
  }
 ],
 "metadata": {
  "kernelspec": {
   "display_name": "Python 3",
   "language": "python",
   "name": "python3"
  },
  "language_info": {
   "codemirror_mode": {
    "name": "ipython",
    "version": 3
   },
   "file_extension": ".py",
   "mimetype": "text/x-python",
   "name": "python",
   "nbconvert_exporter": "python",
   "pygments_lexer": "ipython3",
   "version": "3.7.3"
  }
 },
 "nbformat": 4,
 "nbformat_minor": 2
}
